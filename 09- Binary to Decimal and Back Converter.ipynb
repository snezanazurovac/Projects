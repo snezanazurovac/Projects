{
 "cells": [
  {
   "cell_type": "markdown",
   "id": "ranging-columbus",
   "metadata": {},
   "source": [
    "# Binary to Decimal and Back Converter \n"
   ]
  },
  {
   "cell_type": "markdown",
   "id": "gorgeous-covering",
   "metadata": {},
   "source": [
    "Develop a converter to convert a decimal number to binary or a binary number\n",
    "to its decimal equivalent."
   ]
  },
  {
   "cell_type": "code",
   "execution_count": 9,
   "id": "protective-special",
   "metadata": {},
   "outputs": [],
   "source": [
    "# function converts decimal number to binary number\n",
    "\n",
    "def DecToBin(num):\n",
    "    \n",
    "    if num >= 1:\n",
    "        DecToBin(num // 2)\n",
    "        print(num)\n",
    "        print (num % 2 )"
   ]
  },
  {
   "cell_type": "code",
   "execution_count": 12,
   "id": "proper-relation",
   "metadata": {},
   "outputs": [],
   "source": [
    "# function convets binary to decimal number\n",
    "\n",
    "def BinToDec(n):\n",
    "    bin=str(n)\n",
    "    dec=0\n",
    "    i=len(bin)-1\n",
    "    for x in bin:\n",
    "        dec=dec+int(x)*2**i\n",
    "        i=i-1\n",
    "    return dec"
   ]
  },
  {
   "cell_type": "code",
   "execution_count": 13,
   "id": "handmade-tampa",
   "metadata": {},
   "outputs": [
    {
     "data": {
      "text/plain": [
       "10"
      ]
     },
     "execution_count": 13,
     "metadata": {},
     "output_type": "execute_result"
    }
   ],
   "source": [
    "BinToDec(1010)"
   ]
  },
  {
   "cell_type": "code",
   "execution_count": null,
   "id": "confidential-playing",
   "metadata": {},
   "outputs": [],
   "source": []
  }
 ],
 "metadata": {
  "kernelspec": {
   "display_name": "Python 3",
   "language": "python",
   "name": "python3"
  },
  "language_info": {
   "codemirror_mode": {
    "name": "ipython",
    "version": 3
   },
   "file_extension": ".py",
   "mimetype": "text/x-python",
   "name": "python",
   "nbconvert_exporter": "python",
   "pygments_lexer": "ipython3",
   "version": "3.9.1"
  }
 },
 "nbformat": 4,
 "nbformat_minor": 5
}
