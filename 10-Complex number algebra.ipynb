{
 "cells": [
  {
   "cell_type": "markdown",
   "id": "prerequisite-margin",
   "metadata": {},
   "source": [
    "Complex Number Algebra - \n",
    "Show addition, multiplication, negation, and inversion of complex numbers in separate functions.\n",
    "\n",
    "(Subtraction and division operations can be made with pairs of these operations.) \n",
    "\n",
    "Print the results for each operation tested."
   ]
  },
  {
   "cell_type": "code",
   "execution_count": null,
   "id": "instant-visitor",
   "metadata": {},
   "outputs": [],
   "source": [
    "#imaginar number can be represented in tuple form (re,img)"
   ]
  },
  {
   "cell_type": "code",
   "execution_count": 2,
   "id": "permanent-provider",
   "metadata": {},
   "outputs": [],
   "source": [
    "# addition of complex numbers\n",
    "\n",
    "def addition(z1,z2):\n",
    "    return((z1[0]+z2[0],z1[1]+z2[1]))\n",
    "\n",
    "    "
   ]
  },
  {
   "cell_type": "code",
   "execution_count": 120,
   "id": "portable-timer",
   "metadata": {},
   "outputs": [],
   "source": [
    "# function presents complex number\n",
    "\n",
    "def show_number(z):\n",
    "    print('{:.2f}{:}i'.format(z[0],z[1] if z[1]<0 else '+'+str(round(z[1],2)))) "
   ]
  },
  {
   "cell_type": "code",
   "execution_count": 138,
   "id": "finished-fruit",
   "metadata": {},
   "outputs": [
    {
     "name": "stdout",
     "output_type": "stream",
     "text": [
      "2.00+1i\n"
     ]
    }
   ],
   "source": [
    "show_number(addition((5,-4),(-3,5)))"
   ]
  },
  {
   "cell_type": "code",
   "execution_count": 139,
   "id": "neither-equity",
   "metadata": {},
   "outputs": [],
   "source": [
    "# mulitplication of complex numbers\n",
    "\n",
    "def multiplication(z1,z2):\n",
    "    return((z1[0]*z2[0] +z1[1]*z2[1]*(-1),z1[0]*z2[1]+z1[1]*z2[0]))"
   ]
  },
  {
   "cell_type": "code",
   "execution_count": 140,
   "id": "chronic-connection",
   "metadata": {},
   "outputs": [],
   "source": [
    "z3=multiplication((2,5),(4,-3))"
   ]
  },
  {
   "cell_type": "code",
   "execution_count": 141,
   "id": "compound-thailand",
   "metadata": {},
   "outputs": [
    {
     "name": "stdout",
     "output_type": "stream",
     "text": [
      "23.00+14i\n"
     ]
    }
   ],
   "source": [
    "show_number(multiplication((2,5),(4,-3)))"
   ]
  },
  {
   "cell_type": "code",
   "execution_count": 142,
   "id": "experimental-letter",
   "metadata": {},
   "outputs": [],
   "source": [
    "# negation of complex number\n",
    "\n",
    "def negation(z1):\n",
    "    return((-z1[0],-z1[1]))"
   ]
  },
  {
   "cell_type": "code",
   "execution_count": 143,
   "id": "harmful-immune",
   "metadata": {},
   "outputs": [
    {
     "name": "stdout",
     "output_type": "stream",
     "text": [
      "-5.00+7i\n"
     ]
    }
   ],
   "source": [
    "z3=negation((5,-7))\n",
    "show_number(negation((5,-7)))"
   ]
  },
  {
   "cell_type": "code",
   "execution_count": 144,
   "id": "peaceful-legislation",
   "metadata": {},
   "outputs": [],
   "source": [
    "# inversion of complex number\n",
    "\n",
    "def inversion(z):\n",
    "    return ((z[0],z[1]*(-1)))"
   ]
  },
  {
   "cell_type": "code",
   "execution_count": 145,
   "id": "civilian-tomorrow",
   "metadata": {},
   "outputs": [
    {
     "name": "stdout",
     "output_type": "stream",
     "text": [
      "5.00+7i\n"
     ]
    }
   ],
   "source": [
    "z=inversion((5,-7))\n",
    "show_number(inversion((5,-7)))"
   ]
  },
  {
   "cell_type": "code",
   "execution_count": 146,
   "id": "cardiovascular-creation",
   "metadata": {},
   "outputs": [],
   "source": [
    "# substruction of complex numbers\n",
    "\n",
    "def substruction(z1,z2):\n",
    "    return(addition(z1,negation(z2)))\n",
    "    "
   ]
  },
  {
   "cell_type": "code",
   "execution_count": 147,
   "id": "declared-cookie",
   "metadata": {},
   "outputs": [
    {
     "name": "stdout",
     "output_type": "stream",
     "text": [
      "14.00+3i\n"
     ]
    }
   ],
   "source": [
    "z=substruction((8,5),(-6,2))\n",
    "show_number(substruction((8,5),(-6,2)))"
   ]
  },
  {
   "cell_type": "code",
   "execution_count": 148,
   "id": "adjacent-distributor",
   "metadata": {},
   "outputs": [],
   "source": [
    "def division_scalar(z1,s):\n",
    "    \n",
    "    return((z1[0]/s,z1[1]/s))"
   ]
  },
  {
   "cell_type": "code",
   "execution_count": 149,
   "id": "talented-particular",
   "metadata": {},
   "outputs": [],
   "source": [
    "def division(z1,z2):\n",
    "    #insert first number to be devide z1, insert second number to be devided by z2\n",
    "    \n",
    "    zb=multiplication(z1,inversion(z2))\n",
    "    zi=multiplication(z2,inversion(z2))\n",
    "    result=division_scalar(zb,zi[0])\n",
    "    \n",
    "    return result\n",
    "    "
   ]
  },
  {
   "cell_type": "code",
   "execution_count": 150,
   "id": "intensive-madison",
   "metadata": {},
   "outputs": [
    {
     "name": "stdout",
     "output_type": "stream",
     "text": [
      "0.24+0.56i\n"
     ]
    }
   ],
   "source": [
    "z=division((3,4),(8,-2))\n",
    "show_number(division((3,4),(8,-2)))"
   ]
  },
  {
   "cell_type": "code",
   "execution_count": 151,
   "id": "expected-career",
   "metadata": {},
   "outputs": [],
   "source": [
    "z=division_scalar((10,12),2)"
   ]
  },
  {
   "cell_type": "code",
   "execution_count": 152,
   "id": "established-welsh",
   "metadata": {},
   "outputs": [
    {
     "name": "stdout",
     "output_type": "stream",
     "text": [
      "5.00+6.0i\n"
     ]
    }
   ],
   "source": [
    "show_number(division_scalar((10,12),2))"
   ]
  }
 ],
 "metadata": {
  "kernelspec": {
   "display_name": "Python 3",
   "language": "python",
   "name": "python3"
  },
  "language_info": {
   "codemirror_mode": {
    "name": "ipython",
    "version": 3
   },
   "file_extension": ".py",
   "mimetype": "text/x-python",
   "name": "python",
   "nbconvert_exporter": "python",
   "pygments_lexer": "ipython3",
   "version": "3.9.1"
  }
 },
 "nbformat": 4,
 "nbformat_minor": 5
}
