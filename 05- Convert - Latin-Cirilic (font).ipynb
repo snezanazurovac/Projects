{
 "cells": [
  {
   "cell_type": "code",
   "execution_count": 21,
   "id": "structural-space",
   "metadata": {},
   "outputs": [],
   "source": [
    "import string\n",
    "latin_lower=list(string.ascii_lowercase)\n",
    "latin_upper=list(string.ascii_uppercase)\n",
    "  \n",
    "dict_cirilic_lower={'a':'а','b':'б','c':'ц','d':'д','e':'е','f':'ф','g':'г','h':'х','i':'и','j':'ј','k':'к','l':'л',\n",
    " 'm':'м','n':'н','o':'о','p':'п','q':'љ','r':'р','s':'с','t':'т','u':'у','v':'в','w':'-','x':'-','y':'-','z':'з','š':'ш','ž':'ж','ć':'ћ','č':'ч'}\n",
    "\n",
    "dict_cirilic_upper={'A':'А','B':'Б','C':'Ц','D':'Д','E':'Е','F':'Ф','G':'Г','H':'Х','I':'И','J':'Ј','K':'К','L':'Л',\n",
    " 'M':'М','N':'Н','O':'О','P':'П','Q':'-','R':'Р','S':'С','T':'Т','U':'У','V':'В','W':'-','X':'-','Y':'-','Z':'З','Š':'Ш','Ž':'Ж','Ć':'ћ',\"Č\":'Ч'}\n",
    "\n",
    "dict_rest={'нј':'њ','лј':'љ','дј':'ђ','Нј':'Њ','Лј':'Љ','Дј':'Ђ'}"
   ]
  },
  {
   "cell_type": "code",
   "execution_count": 22,
   "id": "driven-sector",
   "metadata": {},
   "outputs": [],
   "source": [
    "def cirilic(a):\n",
    "    for x in dict_cirilic_lower:\n",
    "        a=a.replace(x,dict_cirilic_lower[x])\n",
    "    for x in dict_cirilic_upper:\n",
    "        a=a.replace(x,dict_cirilic_upper[x])\n",
    "    for x in dict_rest:\n",
    "        a=a.replace(x,dict_rest[x])\n",
    "    return a"
   ]
  },
  {
   "cell_type": "code",
   "execution_count": 23,
   "id": "civic-worry",
   "metadata": {},
   "outputs": [],
   "source": [
    "# use function open to opent txt file typed in latin font\n",
    "\n",
    "file_text=open('Uskrs1.tex','r',encoding='utf-8', errors='ignore')"
   ]
  },
  {
   "cell_type": "code",
   "execution_count": 24,
   "id": "capable-transition",
   "metadata": {},
   "outputs": [
    {
     "data": {
      "text/plain": [
       "['Uskrs u nasoj porodici\\n',\n",
       " '\\n',\n",
       " 'Uskrs je praznik koji je se očekuje sa posebnom radosti u našem domu.\\n',\n",
       " 'Svi ga očekujemo uz naravno puno radosti i veselja jer je to najveći Hrišćanski praznik.\\n',\n",
       " 'Dan kada je vaskrsao Isus Hrist.\\n',\n",
       " 'Vera je u srpskim porodicama duže od pet vekova. Ona nas vodi, čuva i daje snagu da istrajemo,\\n',\n",
       " 'pred raznim iskušenjima. Daje smisao, želju, nadu, duhovnu sangu.\\n',\n",
       " 'Tog dana se u kući pripemaju najlepša jela, i farbaju Uskršnja jaja.\\n',\n",
       " 'Spretnije domaćice jaja oslikavaju lepim i veselim uskršnjim bojama.\\n',\n",
       " 'Nadam se da će naša radost trajati jos vekove i da nas dragi Bog čuva.\\n',\n",
       " '\\n',\n",
       " 'Djurdev dan, Čukur česma, Žabljak, ']"
      ]
     },
     "execution_count": 24,
     "metadata": {},
     "output_type": "execute_result"
    }
   ],
   "source": [
    "# using readlines metod we get list of lines(sentances)\n",
    "\n",
    "line=file_text.readlines()\n",
    "line"
   ]
  },
  {
   "cell_type": "code",
   "execution_count": 25,
   "id": "mechanical-skating",
   "metadata": {},
   "outputs": [],
   "source": [
    "# now, we make new list of sentances converted in cirilic usling function cirilic \n",
    "\n",
    "line_cirilic=[]\n",
    "\n",
    "for a in line:\n",
    "    \n",
    "    line_cirilic.append(cirilic(a))\n",
    "    "
   ]
  },
  {
   "cell_type": "code",
   "execution_count": 26,
   "id": "preceding-headset",
   "metadata": {},
   "outputs": [
    {
     "data": {
      "text/plain": [
       "['Ускрс у насој породици\\n',\n",
       " '\\n',\n",
       " 'Ускрс је празник који је се очекује са посебном радости у нашем дому.\\n',\n",
       " 'Сви га очекујемо уз наравно пуно радости и весеља јер је то највећи Хришћански празник.\\n',\n",
       " 'Дан када је васкрсао Исус Христ.\\n',\n",
       " 'Вера је у српским породицама дуже од пет векова. Она нас води, чува и даје снагу да истрајемо,\\n',\n",
       " 'пред разним искушењима. Даје смисао, жељу, наду, духовну сангу.\\n',\n",
       " 'Тог дана се у кући припемају најлепша јела, и фарбају Ускршња јаја.\\n',\n",
       " 'Спретније домаћице јаја осликавају лепим и веселим ускршњим бојама.\\n',\n",
       " 'Надам се да ће наша радост трајати јос векове и да нас драги Бог чува.\\n',\n",
       " '\\n',\n",
       " 'Ђурдев дан, Чукур чесма, Жабљак, ']"
      ]
     },
     "execution_count": 26,
     "metadata": {},
     "output_type": "execute_result"
    }
   ],
   "source": [
    "# Let's see lines in cirilic font\n",
    "line_cirilic"
   ]
  },
  {
   "cell_type": "code",
   "execution_count": 28,
   "id": "assured-ordinance",
   "metadata": {},
   "outputs": [],
   "source": [
    "# open new file for writing text in cirilic phonte\n",
    "\n",
    "file1 = open(\"ускрс.txt\",\"w\",encoding=\"utf-8\") "
   ]
  },
  {
   "cell_type": "code",
   "execution_count": 29,
   "id": "later-theory",
   "metadata": {},
   "outputs": [],
   "source": [
    "# passing true list of cirilic sentances, we use write method and write one by one into file\n",
    "\n",
    "for a in line_cirilic:\n",
    "    file1.write(a)"
   ]
  },
  {
   "cell_type": "code",
   "execution_count": 30,
   "id": "mighty-guide",
   "metadata": {},
   "outputs": [],
   "source": [
    "# close file\n",
    "file1.close()"
   ]
  },
  {
   "cell_type": "code",
   "execution_count": 31,
   "id": "horizontal-quarter",
   "metadata": {},
   "outputs": [],
   "source": [
    "file1=open(\"ускрс.txt\",'r',encoding=\"utf-8\")"
   ]
  },
  {
   "cell_type": "code",
   "execution_count": 32,
   "id": "acceptable-training",
   "metadata": {},
   "outputs": [
    {
     "data": {
      "text/plain": [
       "'Ускрс у насој породици\\n\\nУскрс је празник који је се очекује са посебном радости у нашем дому.\\nСви га очекујемо уз наравно пуно радости и весеља јер је то највећи Хришћански празник.\\nДан када је васкрсао Исус Христ.\\nВера је у српским породицама дуже од пет векова. Она нас води, чува и даје снагу да истрајемо,\\nпред разним искушењима. Даје смисао, жељу, наду, духовну сангу.\\nТог дана се у кући припемају најлепша јела, и фарбају Ускршња јаја.\\nСпретније домаћице јаја осликавају лепим и веселим ускршњим бојама.\\nНадам се да ће наша радост трајати јос векове и да нас драги Бог чува.\\n\\nЂурдев дан, Чукур чесма, Жабљак, '"
      ]
     },
     "execution_count": 32,
     "metadata": {},
     "output_type": "execute_result"
    }
   ],
   "source": [
    "# finaly read new file made in cirilic\n",
    "file1.read()"
   ]
  },
  {
   "cell_type": "code",
   "execution_count": null,
   "id": "approved-arbitration",
   "metadata": {},
   "outputs": [],
   "source": []
  }
 ],
 "metadata": {
  "kernelspec": {
   "display_name": "Python 3",
   "language": "python",
   "name": "python3"
  },
  "language_info": {
   "codemirror_mode": {
    "name": "ipython",
    "version": 3
   },
   "file_extension": ".py",
   "mimetype": "text/x-python",
   "name": "python",
   "nbconvert_exporter": "python",
   "pygments_lexer": "ipython3",
   "version": "3.9.1"
  }
 },
 "nbformat": 4,
 "nbformat_minor": 5
}
