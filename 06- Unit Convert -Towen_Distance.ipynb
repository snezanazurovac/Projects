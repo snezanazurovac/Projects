{
 "cells": [
  {
   "cell_type": "markdown",
   "id": "destroyed-voluntary",
   "metadata": {},
   "source": [
    "# 1.Unit Converter"
   ]
  },
  {
   "cell_type": "code",
   "execution_count": 58,
   "id": "appointed-jacob",
   "metadata": {},
   "outputs": [],
   "source": [
    "#  function coverts units of measure for length to [km,m,dm,cm,mm]\n",
    "#  enter measurment value and type of mesure \n",
    "\n",
    "def convert():\n",
    "    \n",
    "    value=int(input('Imput value ='))\n",
    "    mes=input(\"Input measurment (km,m,cm,mm) =\")\n",
    "    measurment={'km':(1,1000,10000,100000,1000000),'m':(0.001,1,10,100,1000),'dm':(0.0001,10,1,10,100),'cm':(0.00001,0.01,0.1,1,10),'mm':(0.000001,0.001,0.01,0.1,1)}\n",
    "   \n",
    "    print('{:>15.2f} km'.format(value*measurment[mes][0]))\n",
    "    print('{:>15.2f}  m'.format(value*measurment[mes][1]))\n",
    "    print('{:>15.2f} dm'.format(value*measurment[mes][2]))\n",
    "    print('{:>15.2f} cm'.format(value*measurment[mes][3]))\n",
    "    print('{:>15.2f} mm'.format(value*measurment[mes][4]))"
   ]
  },
  {
   "cell_type": "code",
   "execution_count": 59,
   "id": "realistic-jenny",
   "metadata": {},
   "outputs": [
    {
     "name": "stdout",
     "output_type": "stream",
     "text": [
      "Imput value =5\n",
      "Input measurment (km,m,cm,mm) =km\n",
      "           5.00 km\n",
      "        5000.00  m\n",
      "       50000.00 dm\n",
      "      500000.00 cm\n",
      "     5000000.00 mm\n"
     ]
    }
   ],
   "source": [
    "convert()"
   ]
  },
  {
   "cell_type": "markdown",
   "id": "junior-viewer",
   "metadata": {},
   "source": [
    "# 2. Distance Between Two Cities"
   ]
  },
  {
   "cell_type": "code",
   "execution_count": 60,
   "id": "drawn-weekend",
   "metadata": {},
   "outputs": [],
   "source": [
    "# Fuction for calculate distance between two cities"
   ]
  },
  {
   "cell_type": "code",
   "execution_count": 61,
   "id": "civilian-contact",
   "metadata": {},
   "outputs": [],
   "source": [
    "def distance(lon1=lon1,lon2=lon2,lat1=lat1,lat2=lat2):\n",
    "    import math\n",
    "    lon1=float(input(\"Input longitude of first city =\"))\n",
    "    lon2=float(input(\"Input longitude of second city =\"))\n",
    "    lat1=float(input(\"Input latitude of first city = \"))\n",
    "    lat2=float(input(\"Input latitude of second city =\"))\n",
    "    \n",
    "    dx = (lon1-lon2)*40000*math.cos((lat1+lat2)*math.pi/360)/360\n",
    "    dy = (lat1-lat2)*40000/360\n",
    "    dist=math.sqrt(dx**2+dy**2)\n",
    "    print(\"Distance is {}km\".format(dist))\n",
    "    return (distance)"
   ]
  },
  {
   "cell_type": "code",
   "execution_count": 62,
   "id": "incorrect-alloy",
   "metadata": {},
   "outputs": [
    {
     "name": "stdout",
     "output_type": "stream",
     "text": [
      "Input longitude of first city =44.7\n",
      "Input longitude of second city =43.55\n",
      "Input latitude of first city = 20.448\n",
      "Input latitude of second city =21.71\n",
      "Distance is 184.05838127457085km\n"
     ]
    },
    {
     "data": {
      "text/plain": [
       "<function __main__.distance(lon1=44.78, lon2=43.55, lat1=20.44842, lat2=21.7103)>"
      ]
     },
     "execution_count": 62,
     "metadata": {},
     "output_type": "execute_result"
    }
   ],
   "source": [
    "distance()"
   ]
  },
  {
   "cell_type": "code",
   "execution_count": null,
   "id": "mobile-washer",
   "metadata": {},
   "outputs": [],
   "source": []
  }
 ],
 "metadata": {
  "kernelspec": {
   "display_name": "Python 3",
   "language": "python",
   "name": "python3"
  },
  "language_info": {
   "codemirror_mode": {
    "name": "ipython",
    "version": 3
   },
   "file_extension": ".py",
   "mimetype": "text/x-python",
   "name": "python",
   "nbconvert_exporter": "python",
   "pygments_lexer": "ipython3",
   "version": "3.9.1"
  }
 },
 "nbformat": 4,
 "nbformat_minor": 5
}
