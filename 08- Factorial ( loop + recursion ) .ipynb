{
 "cells": [
  {
   "cell_type": "markdown",
   "id": "homeless-active",
   "metadata": {},
   "source": [
    "# Factorial Finder"
   ]
  },
  {
   "cell_type": "markdown",
   "id": "packed-theorem",
   "metadata": {},
   "source": [
    "Factorial Finder \n",
    "The Factorial of a positive integer, n, is defined as the product of the sequence n, n-1, n-2, ...1 \n",
    "and the factorial of zero, 0, is defined as being 1. Solve this using both loops and recursion."
   ]
  },
  {
   "cell_type": "markdown",
   "id": "younger-meaning",
   "metadata": {},
   "source": [
    "# I solution ( loop )"
   ]
  },
  {
   "cell_type": "code",
   "execution_count": 90,
   "id": "demographic-toner",
   "metadata": {},
   "outputs": [],
   "source": [
    "def factorial():\n",
    "    fac=1\n",
    "    n=int(input(\"Pleas, input number You want to calculate factorial = \"))\n",
    "    if n==0:\n",
    "        fac=1\n",
    "    else:\n",
    "        for i in range(1,n+1):\n",
    "            fac=fac*i\n",
    "    return fac"
   ]
  },
  {
   "cell_type": "code",
   "execution_count": 91,
   "id": "contemporary-queens",
   "metadata": {},
   "outputs": [
    {
     "name": "stdout",
     "output_type": "stream",
     "text": [
      "Pleas, input number You want to calculate factorial = 5\n"
     ]
    },
    {
     "data": {
      "text/plain": [
       "120"
      ]
     },
     "execution_count": 91,
     "metadata": {},
     "output_type": "execute_result"
    }
   ],
   "source": [
    "factorial()"
   ]
  },
  {
   "cell_type": "markdown",
   "id": "municipal-rochester",
   "metadata": {},
   "source": [
    "# II solution (recursion)"
   ]
  },
  {
   "cell_type": "code",
   "execution_count": 92,
   "id": "yellow-drink",
   "metadata": {},
   "outputs": [],
   "source": [
    "def factoriall(n):\n",
    "    \n",
    "    if n==0 or n==1:\n",
    "        return 1\n",
    "    else:\n",
    "        return n*factoriall(n-1)\n",
    "    \n",
    "    "
   ]
  },
  {
   "cell_type": "code",
   "execution_count": 93,
   "id": "growing-grade",
   "metadata": {},
   "outputs": [
    {
     "data": {
      "text/plain": [
       "6"
      ]
     },
     "execution_count": 93,
     "metadata": {},
     "output_type": "execute_result"
    }
   ],
   "source": [
    "factoriall(3)"
   ]
  }
 ],
 "metadata": {
  "kernelspec": {
   "display_name": "Python 3",
   "language": "python",
   "name": "python3"
  },
  "language_info": {
   "codemirror_mode": {
    "name": "ipython",
    "version": 3
   },
   "file_extension": ".py",
   "mimetype": "text/x-python",
   "name": "python",
   "nbconvert_exporter": "python",
   "pygments_lexer": "ipython3",
   "version": "3.9.1"
  }
 },
 "nbformat": 4,
 "nbformat_minor": 5
}
