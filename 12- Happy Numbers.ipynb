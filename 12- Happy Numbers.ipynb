{
 "cells": [
  {
   "cell_type": "markdown",
   "id": "serial-insert",
   "metadata": {},
   "source": [
    "Happy Numbers - A happy number is defined by the following process. \n",
    "\n",
    "Starting with any positive integer, replace the number by the sum of the squares of its digits, \n",
    "and repeat the process until the number equals 1 (where it will stay), \n",
    "or it loops endlessly in a cycle which does not include 1. \n",
    "Those numbers for which this process ends in 1 are happy numbers, \n",
    "while those that do not end in 1 are unhappy numbers. Display an example of your output here. \n",
    "Find first 8 happy numbers"
   ]
  },
  {
   "cell_type": "code",
   "execution_count": 8,
   "id": "military-sentence",
   "metadata": {},
   "outputs": [],
   "source": [
    "# function returns True if number is happy or false if number is unhappy\n",
    "\n",
    "def sum_digit_sqare(number):\n",
    "    sume=[]\n",
    "    while number!=1:\n",
    "        suma=sum([int(s)**2 for s in str(number)])\n",
    "        if suma not in sume:\n",
    "            sume.append(suma)\n",
    "            number=suma\n",
    "        else:\n",
    "            return False\n",
    "    if number==1:\n",
    "        return True\n",
    "        \n",
    "   \n",
    "   "
   ]
  },
  {
   "cell_type": "code",
   "execution_count": 21,
   "id": "concrete-carter",
   "metadata": {},
   "outputs": [],
   "source": [
    "#let's chech HAPPY numbers up to 100:\n",
    "\n",
    "happy=[]\n",
    "for i in range(1,101):\n",
    "    if sum_digit_sqare(i):\n",
    "        happy.append(i)\n",
    "        "
   ]
  },
  {
   "cell_type": "code",
   "execution_count": 22,
   "id": "sweet-hospital",
   "metadata": {},
   "outputs": [
    {
     "data": {
      "text/plain": [
       "[1, 7, 10, 13, 19, 23, 28, 31, 32, 44, 49, 68, 70, 79, 82, 86, 91, 94, 97, 100]"
      ]
     },
     "execution_count": 22,
     "metadata": {},
     "output_type": "execute_result"
    }
   ],
   "source": [
    "#plot happy numbers\n",
    "happy"
   ]
  },
  {
   "cell_type": "code",
   "execution_count": null,
   "id": "communist-angle",
   "metadata": {},
   "outputs": [],
   "source": []
  }
 ],
 "metadata": {
  "kernelspec": {
   "display_name": "Python 3",
   "language": "python",
   "name": "python3"
  },
  "language_info": {
   "codemirror_mode": {
    "name": "ipython",
    "version": 3
   },
   "file_extension": ".py",
   "mimetype": "text/x-python",
   "name": "python",
   "nbconvert_exporter": "python",
   "pygments_lexer": "ipython3",
   "version": "3.9.1"
  }
 },
 "nbformat": 4,
 "nbformat_minor": 5
}
