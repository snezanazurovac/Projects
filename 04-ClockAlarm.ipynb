{
 "cells": [
  {
   "cell_type": "markdown",
   "id": "popular-plane",
   "metadata": {},
   "source": [
    "# Alarm Clock - A simple clock where it plays a sound after X number of minutes/seconds or at a particular time."
   ]
  },
  {
   "cell_type": "markdown",
   "id": "defensive-million",
   "metadata": {},
   "source": [
    "# I solutiono with hour format 00 - 12 (am/pm)"
   ]
  },
  {
   "cell_type": "code",
   "execution_count": 48,
   "id": "worst-fisher",
   "metadata": {},
   "outputs": [],
   "source": [
    "from datetime import datetime\n",
    "from playsound import playsound"
   ]
  },
  {
   "cell_type": "code",
   "execution_count": null,
   "id": "municipal-compromise",
   "metadata": {},
   "outputs": [],
   "source": [
    "# function for validation time format (\"HH:MM:SS AM/PM\")\n",
    "\n",
    "def validate_time(alarm_time):\n",
    "    if len(alarm_time) != 11:\n",
    "        return \"Invalid time format! Please try again...\"\n",
    "    else:\n",
    "        if int(alarm_time[0:2]) > 12:\n",
    "            return \"Invalid HOUR format! Please try again...\"\n",
    "        elif int(alarm_time[3:5]) > 59:\n",
    "            return \"Invalid MINUTE format! Please try again...\"\n",
    "        elif int(alarm_time[6:8]) > 59:\n",
    "            return \"Invalid SECOND format! Please try again...\"\n",
    "        else:\n",
    "            return \"ok\""
   ]
  },
  {
   "cell_type": "code",
   "execution_count": 50,
   "id": "unauthorized-receptor",
   "metadata": {},
   "outputs": [
    {
     "ename": "KeyboardInterrupt",
     "evalue": "Interrupted by user",
     "output_type": "error",
     "traceback": [
      "\u001b[1;31m---------------------------------------------------------------------------\u001b[0m",
      "\u001b[1;31mKeyboardInterrupt\u001b[0m                         Traceback (most recent call last)",
      "\u001b[1;32m<ipython-input-50-fd39448fb75d>\u001b[0m in \u001b[0;36m<module>\u001b[1;34m\u001b[0m\n\u001b[1;32m----> 1\u001b[1;33m \u001b[0malarm_time\u001b[0m \u001b[1;33m=\u001b[0m \u001b[0minput\u001b[0m\u001b[1;33m(\u001b[0m\u001b[1;34m\"Enter time in 'HH:MM:SS AM/PM' format: \"\u001b[0m\u001b[1;33m)\u001b[0m\u001b[1;33m\u001b[0m\u001b[1;33m\u001b[0m\u001b[0m\n\u001b[0m\u001b[0;32m      2\u001b[0m \u001b[1;32mwhile\u001b[0m \u001b[0mvalidate_time\u001b[0m\u001b[1;33m(\u001b[0m\u001b[0malarm_time\u001b[0m\u001b[1;33m)\u001b[0m\u001b[1;33m!=\u001b[0m\u001b[1;34m\"ok\"\u001b[0m\u001b[1;33m:\u001b[0m\u001b[1;33m\u001b[0m\u001b[1;33m\u001b[0m\u001b[0m\n\u001b[0;32m      3\u001b[0m     \u001b[0malarm_time\u001b[0m\u001b[1;33m=\u001b[0m\u001b[0minput\u001b[0m\u001b[1;33m(\u001b[0m\u001b[1;34m\"Enter time in 'HH:MM:SS AM/PM' format: \"\u001b[0m\u001b[1;33m)\u001b[0m\u001b[1;33m\u001b[0m\u001b[1;33m\u001b[0m\u001b[0m\n\u001b[0;32m      4\u001b[0m \u001b[0malarm_hour\u001b[0m \u001b[1;33m=\u001b[0m \u001b[0malarm_time\u001b[0m\u001b[1;33m[\u001b[0m\u001b[1;36m0\u001b[0m\u001b[1;33m:\u001b[0m\u001b[1;36m2\u001b[0m\u001b[1;33m]\u001b[0m\u001b[1;33m\u001b[0m\u001b[1;33m\u001b[0m\u001b[0m\n\u001b[0;32m      5\u001b[0m \u001b[0malarm_min\u001b[0m \u001b[1;33m=\u001b[0m \u001b[0malarm_time\u001b[0m\u001b[1;33m[\u001b[0m\u001b[1;36m3\u001b[0m\u001b[1;33m:\u001b[0m\u001b[1;36m5\u001b[0m\u001b[1;33m]\u001b[0m\u001b[1;33m\u001b[0m\u001b[1;33m\u001b[0m\u001b[0m\n",
      "\u001b[1;32mc:\\users\\pc\\appdata\\local\\programs\\python\\python39\\lib\\site-packages\\ipykernel\\kernelbase.py\u001b[0m in \u001b[0;36mraw_input\u001b[1;34m(self, prompt)\u001b[0m\n\u001b[0;32m    855\u001b[0m                 \u001b[1;34m\"raw_input was called, but this frontend does not support input requests.\"\u001b[0m\u001b[1;33m\u001b[0m\u001b[1;33m\u001b[0m\u001b[0m\n\u001b[0;32m    856\u001b[0m             )\n\u001b[1;32m--> 857\u001b[1;33m         return self._input_request(str(prompt),\n\u001b[0m\u001b[0;32m    858\u001b[0m             \u001b[0mself\u001b[0m\u001b[1;33m.\u001b[0m\u001b[0m_parent_ident\u001b[0m\u001b[1;33m,\u001b[0m\u001b[1;33m\u001b[0m\u001b[1;33m\u001b[0m\u001b[0m\n\u001b[0;32m    859\u001b[0m             \u001b[0mself\u001b[0m\u001b[1;33m.\u001b[0m\u001b[0m_parent_header\u001b[0m\u001b[1;33m,\u001b[0m\u001b[1;33m\u001b[0m\u001b[1;33m\u001b[0m\u001b[0m\n",
      "\u001b[1;32mc:\\users\\pc\\appdata\\local\\programs\\python\\python39\\lib\\site-packages\\ipykernel\\kernelbase.py\u001b[0m in \u001b[0;36m_input_request\u001b[1;34m(self, prompt, ident, parent, password)\u001b[0m\n\u001b[0;32m    899\u001b[0m             \u001b[1;32mexcept\u001b[0m \u001b[0mKeyboardInterrupt\u001b[0m\u001b[1;33m:\u001b[0m\u001b[1;33m\u001b[0m\u001b[1;33m\u001b[0m\u001b[0m\n\u001b[0;32m    900\u001b[0m                 \u001b[1;31m# re-raise KeyboardInterrupt, to truncate traceback\u001b[0m\u001b[1;33m\u001b[0m\u001b[1;33m\u001b[0m\u001b[1;33m\u001b[0m\u001b[0m\n\u001b[1;32m--> 901\u001b[1;33m                 \u001b[1;32mraise\u001b[0m \u001b[0mKeyboardInterrupt\u001b[0m\u001b[1;33m(\u001b[0m\u001b[1;34m\"Interrupted by user\"\u001b[0m\u001b[1;33m)\u001b[0m \u001b[1;32mfrom\u001b[0m \u001b[1;32mNone\u001b[0m\u001b[1;33m\u001b[0m\u001b[1;33m\u001b[0m\u001b[0m\n\u001b[0m\u001b[0;32m    902\u001b[0m             \u001b[1;32mexcept\u001b[0m \u001b[0mException\u001b[0m \u001b[1;32mas\u001b[0m \u001b[0me\u001b[0m\u001b[1;33m:\u001b[0m\u001b[1;33m\u001b[0m\u001b[1;33m\u001b[0m\u001b[0m\n\u001b[0;32m    903\u001b[0m                 \u001b[0mself\u001b[0m\u001b[1;33m.\u001b[0m\u001b[0mlog\u001b[0m\u001b[1;33m.\u001b[0m\u001b[0mwarning\u001b[0m\u001b[1;33m(\u001b[0m\u001b[1;34m\"Invalid Message:\"\u001b[0m\u001b[1;33m,\u001b[0m \u001b[0mexc_info\u001b[0m\u001b[1;33m=\u001b[0m\u001b[1;32mTrue\u001b[0m\u001b[1;33m)\u001b[0m\u001b[1;33m\u001b[0m\u001b[1;33m\u001b[0m\u001b[0m\n",
      "\u001b[1;31mKeyboardInterrupt\u001b[0m: Interrupted by user"
     ]
    }
   ],
   "source": [
    "# set up alarm time\n",
    "\n",
    "alarm_time = input(\"Enter time in 'HH:MM:SS AM/PM' format: \")\n",
    "while validate_time(alarm_time)!=\"ok\":\n",
    "    alarm_time=input(\"Enter time in 'HH:MM:SS AM/PM' format: \")\n",
    "alarm_hour = alarm_time[0:2]\n",
    "alarm_min = alarm_time[3:5]\n",
    "alarm_sec = alarm_time[6:8]\n",
    "alarm_period = alarm_time[9:].upper() \n",
    "    "
   ]
  },
  {
   "cell_type": "code",
   "execution_count": null,
   "id": "existing-brick",
   "metadata": {},
   "outputs": [],
   "source": [
    "# start alarm when hour and minut and seconds of time reached alarm time\n",
    "while True:\n",
    "        now = datetime.now()\n",
    "        current_hour = now.strftime(\"%I\")\n",
    "        current_min = now.strftime(\"%M\")\n",
    "        current_sec = now.strftime(\"%S\")\n",
    "        current_period = now.strftime(\"%p\")\n",
    "\n",
    "        if alarm_period == current_period:\n",
    "            if alarm_hour == current_hour:\n",
    "                if alarm_min == current_min:\n",
    "                    if alarm_sec == current_sec:\n",
    "                        print(\"Wake Up!\")\n",
    "                        playsound('full_of_love_romantic_alarm.mp3')\n",
    "                        break"
   ]
  },
  {
   "cell_type": "code",
   "execution_count": null,
   "id": "together-migration",
   "metadata": {},
   "outputs": [],
   "source": []
  },
  {
   "cell_type": "markdown",
   "id": "infrared-stevens",
   "metadata": {},
   "source": [
    "# II solutiono with hour format 00-24 h  "
   ]
  },
  {
   "cell_type": "code",
   "execution_count": 52,
   "id": "dying-commander",
   "metadata": {},
   "outputs": [],
   "source": [
    "# validatoin function to check format of time (HH:MM (00:24))\n",
    "\n",
    "def validate_time_new(alarm_time):\n",
    "    \n",
    "    if len(alarm_time) !=5:\n",
    "        return \"Invalid time format 'HH:MM' ! Please try again...\"\n",
    "    else:\n",
    "        if int(alarm_time[0:2]) < 0 or int(alarm_time[0:2])>24:\n",
    "            return \"Invalid HOUR format! Please try again...\"\n",
    "        elif int(alarm_time[3:5]) > 59:\n",
    "            return \"Invalid MINUTE format! Please try again...\"\n",
    "        else:\n",
    "            return \"ok\""
   ]
  },
  {
   "cell_type": "code",
   "execution_count": 53,
   "id": "violent-heart",
   "metadata": {},
   "outputs": [
    {
     "name": "stdout",
     "output_type": "stream",
     "text": [
      "Plesase input Enter time in 'HH:MM' format (00:24)17:19\n"
     ]
    }
   ],
   "source": [
    "alarm_time=input(\"Plesase input Enter time in 'HH:MM' format (00:24)\")\n",
    "\n",
    "while validate_time_new(alarm_time) !=\"ok\":\n",
    "    \n",
    "    alarm_time=input(\"Plesase input Enter time in 'HH:MM' format (00:24)\")\n",
    "    \n",
    "set_up=\"start\"\n",
    "while set_up==\"start\":\n",
    "    now = datetime.now()\n",
    "    h=now.hour\n",
    "    m=now.minute\n",
    "    if h==int(alarm_time[0:2]) and m==int(alarm_time[3:5]):\n",
    "        playsound('full_of_love_romantic_alarm.mp3')\n",
    "        set_up=\"stop\"\n",
    "        break\n",
    "    \n"
   ]
  },
  {
   "cell_type": "code",
   "execution_count": null,
   "id": "spiritual-designer",
   "metadata": {},
   "outputs": [],
   "source": []
  }
 ],
 "metadata": {
  "kernelspec": {
   "display_name": "Python 3",
   "language": "python",
   "name": "python3"
  },
  "language_info": {
   "codemirror_mode": {
    "name": "ipython",
    "version": 3
   },
   "file_extension": ".py",
   "mimetype": "text/x-python",
   "name": "python",
   "nbconvert_exporter": "python",
   "pygments_lexer": "ipython3",
   "version": "3.9.1"
  }
 },
 "nbformat": 4,
 "nbformat_minor": 5
}
