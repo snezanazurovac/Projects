{
 "cells": [
  {
   "cell_type": "markdown",
   "id": "necessary-leeds",
   "metadata": {},
   "source": [
    "# Credit Card Validator "
   ]
  },
  {
   "cell_type": "markdown",
   "id": "first-liechtenstein",
   "metadata": {},
   "source": [
    "The Algorithm in Action\n",
    "\n",
    "Verifying a 16-digit card number starts by taking the first 15 digits, which are the institution code and the individual account identifier. For example, in the card number 4578 4230 1376 9219, those digits would be:\n",
    "\n",
    "4-5-7-8-4-2-3-0-1-3-7-6-9-2-1\n",
    "\n",
    "Starting with the first digit, multiply every second digit by 2:\n",
    "\n",
    "8-5-14-8-8-2-6-0-2-3-14-6-18-2-2\n",
    "\n",
    "Every time you have a two-digit number, just add those digits together for a one-digit result:\n",
    "\n",
    "8-5-5-8-8-2-6-0-2-3-5-6-9-2-2\n",
    "\n",
    "Finally, add all the numbers together:\n",
    "\n",
    "8 + 5 + 5 + 8 + 8 + 2 + 6 + 0 + 2 + 3 + 5 + 6 + 9 + 2 + 2 = 71\n",
    "\n",
    "When this number is added to the check digit, then the result must be an even multiple of 10. In this case:\n",
    "\n",
    "71 + 9 = 80\n",
    "\n",
    "The number is therefore valid. If the algorithm doesn't produce a multiple of 10, then the card number cannot be valid."
   ]
  },
  {
   "cell_type": "code",
   "execution_count": 58,
   "id": "laughing-terrain",
   "metadata": {},
   "outputs": [],
   "source": [
    "      \n",
    "def verification_card():\n",
    "    \n",
    "    flag=True\n",
    "    numbers=[]\n",
    "    card_number=input(\"Please input card number= \")\n",
    "    \n",
    "    for x in card_number:\n",
    "        numbers.append(int(x))\n",
    "    \n",
    "    for x in range(0, len(numbers)-1, 2):\n",
    "        if (numbers[x] * 2 )>= 10:\n",
    "            numbers[x] = (numbers[x]* 2)//10 + (numbers[x] * 2) % 10\n",
    "        else:\n",
    "            numbers[x]=numbers[x] * 2\n",
    "    suma=sum(numbers)\n",
    "    if suma%10 !=0:\n",
    "        flag=False\n",
    "        \n",
    "            \n",
    "    return flag"
   ]
  },
  {
   "cell_type": "code",
   "execution_count": 65,
   "id": "reserved-collectible",
   "metadata": {},
   "outputs": [],
   "source": [
    "def pass_verification():\n",
    "    \n",
    "    if verification_card():\n",
    "        print()\n",
    "        print(\"Varifiaction pass\")\n",
    "    else:\n",
    "        print()\n",
    "        print(\"Card is not VALID!!!\")"
   ]
  },
  {
   "cell_type": "code",
   "execution_count": 66,
   "id": "understood-india",
   "metadata": {},
   "outputs": [
    {
     "name": "stdout",
     "output_type": "stream",
     "text": [
      "Please input card number= 4578423013769219\n",
      "\n",
      "Varifiaction pass\n"
     ]
    }
   ],
   "source": [
    "pass_verification()"
   ]
  },
  {
   "cell_type": "code",
   "execution_count": 67,
   "id": "bibliographic-coverage",
   "metadata": {},
   "outputs": [
    {
     "name": "stdout",
     "output_type": "stream",
     "text": [
      "Please input card number= 1234567899876543\n",
      "\n",
      "Card is not VALID!!!\n"
     ]
    }
   ],
   "source": [
    "pass_verification()"
   ]
  },
  {
   "cell_type": "code",
   "execution_count": null,
   "id": "distributed-circumstances",
   "metadata": {},
   "outputs": [],
   "source": []
  }
 ],
 "metadata": {
  "kernelspec": {
   "display_name": "Python 3",
   "language": "python",
   "name": "python3"
  },
  "language_info": {
   "codemirror_mode": {
    "name": "ipython",
    "version": 3
   },
   "file_extension": ".py",
   "mimetype": "text/x-python",
   "name": "python",
   "nbconvert_exporter": "python",
   "pygments_lexer": "ipython3",
   "version": "3.9.1"
  }
 },
 "nbformat": 4,
 "nbformat_minor": 5
}
