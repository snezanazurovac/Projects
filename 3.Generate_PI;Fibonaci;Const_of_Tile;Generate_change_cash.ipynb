{
 "cells": [
  {
   "cell_type": "markdown",
   "id": "alpha-special",
   "metadata": {},
   "source": [
    "# Find PI to the Nth Digit - Enter a number and have the program generate π (pi) up to that many decimal places. Keep a limit to how far the program will go."
   ]
  },
  {
   "cell_type": "code",
   "execution_count": 2,
   "id": "about-agent",
   "metadata": {},
   "outputs": [],
   "source": [
    "import math\n",
    "math."
   ]
  },
  {
   "cell_type": "code",
   "execution_count": 3,
   "id": "resident-float",
   "metadata": {},
   "outputs": [],
   "source": [
    "pi=4*(4*math.atan(1/5)-math.atan(1/239))"
   ]
  },
  {
   "cell_type": "code",
   "execution_count": 16,
   "id": "academic-vegetation",
   "metadata": {},
   "outputs": [],
   "source": [
    "def round_pi(number):\n",
    "    pi=4*(4*math.atan(1/5)-math.atan(1/239))\n",
    "    p=round(pi,number)\n",
    "    return p"
   ]
  },
  {
   "cell_type": "code",
   "execution_count": 22,
   "id": "metropolitan-hunger",
   "metadata": {},
   "outputs": [
    {
     "name": "stdout",
     "output_type": "stream",
     "text": [
      "Input nubmer of decimal places,max value is 16=16\n",
      "Your pi value is 3.1415926535897936\n"
     ]
    }
   ],
   "source": [
    "number=int(input((\"Input nubmer of decimal places,max value is 16=\")))\n",
    "\n",
    "print(\"Your pi value is {}\".format(round_pi(number)))"
   ]
  },
  {
   "cell_type": "markdown",
   "id": "smooth-sleep",
   "metadata": {},
   "source": [
    "# Fibonacci Sequence - Enter a number and have the program generate the Fibonacci sequence to that number or to the Nth number."
   ]
  },
  {
   "cell_type": "code",
   "execution_count": 49,
   "id": "encouraging-accuracy",
   "metadata": {},
   "outputs": [],
   "source": [
    "def fibonaci(nubmer):\n",
    "    fibonaci=[0,1]\n",
    "    for i in range(0,number):\n",
    "        a=fibonaci[len(fibonaci)-1]+fibonaci[len(fibonaci)-2]\n",
    "        fibonaci.append(a)\n",
    "    return fibonaci"
   ]
  },
  {
   "cell_type": "code",
   "execution_count": 51,
   "id": "former-quilt",
   "metadata": {},
   "outputs": [
    {
     "name": "stdout",
     "output_type": "stream",
     "text": [
      "Please, imput numbes of febonaci elements= 20\n",
      "[0, 1, 1, 2, 3, 5, 8, 13, 21, 34, 55, 89, 144, 233, 377, 610, 987, 1597, 2584, 4181, 6765, 10946]\n"
     ]
    }
   ],
   "source": [
    "number=int(input(\"Please, imput numbes of febonaci elements= \"))\n",
    "print(fibonaci(number))"
   ]
  },
  {
   "cell_type": "markdown",
   "id": "spatial-exploration",
   "metadata": {},
   "source": [
    "# Find Cost of Tile to Cover W x H Floor - Calculate the total cost of tile it would take to cover a floor plan of width and height, using a cost entered by the user."
   ]
  },
  {
   "cell_type": "code",
   "execution_count": 55,
   "id": "experimental-attitude",
   "metadata": {},
   "outputs": [
    {
     "name": "stdout",
     "output_type": "stream",
     "text": [
      "Please enter weight[m]=10\n",
      "Please enter height[m]=20\n",
      "Please enter price$/m2 for tile=20\n",
      "Total cost of covering plot will be 4000 $\n"
     ]
    }
   ],
   "source": [
    "weight=int(input('Please enter weight[m]='))\n",
    "height=int(input('Please enter height[m]='))\n",
    "price=int(input('Please enter price$/m2 for tile='))\n",
    "print('Total cost of covering plot will be {} $'.format(weight*height*price))"
   ]
  },
  {
   "cell_type": "markdown",
   "id": "lasting-farming",
   "metadata": {},
   "source": [
    "# Change Return Program - The user enters a cost and then the amount of money given. The program will figure out the change and the number of quarters, dimes, nickels, pennies needed for the change."
   ]
  },
  {
   "cell_type": "markdown",
   "id": "first-session",
   "metadata": {},
   "source": [
    "dimes=0.1$\n",
    "nickles=0.05$\n",
    "quarter=0.25$\n",
    "pennies=0.01$"
   ]
  },
  {
   "cell_type": "code",
   "execution_count": 65,
   "id": "sought-clothing",
   "metadata": {},
   "outputs": [
    {
     "name": "stdout",
     "output_type": "stream",
     "text": [
      "Please insert price =789.47\n",
      "Please insert money1000\n"
     ]
    }
   ],
   "source": []
  },
  {
   "cell_type": "code",
   "execution_count": 83,
   "id": "miniature-truth",
   "metadata": {},
   "outputs": [],
   "source": [
    "def change_money(price,money):\n",
    "    \n",
    "    #number of dollars\n",
    "    dollar=int(money-price)\n",
    "    \n",
    "    #rest of change after dollars\n",
    "    part=round((money-dollar-price),2)\n",
    "    quarter= part//0.25\n",
    "    \n",
    "    #rest of change after quarter\n",
    "    part=part-quarter*0.25\n",
    "    part=round(part,2)\n",
    "    dimes=part//0.1\n",
    "    \n",
    "    #rest of change after dimes\n",
    "    part=part-dimes*0.1\n",
    "    part=round(part,2)\n",
    "    nickles=part//0.05\n",
    "    \n",
    "    #rest of change after nickles\n",
    "    part=part-nickles*0.05\n",
    "    part=round(part,2)\n",
    "    pennies=part/0.01\n",
    "    \n",
    "    return(dollar,quarter,dimes,nickles,pennies)\n",
    "\n",
    "\n",
    "    \n",
    "    "
   ]
  },
  {
   "cell_type": "code",
   "execution_count": 90,
   "id": "mineral-hardwood",
   "metadata": {},
   "outputs": [
    {
     "name": "stdout",
     "output_type": "stream",
     "text": [
      "Please insert price =742.14\n",
      "Please insert money1000\n",
      "\n",
      "        Change is:\n",
      "        257 $\n",
      "        2.0 nickles\n",
      "        1.0 quarter\n",
      "        0.0 pennis\n"
     ]
    }
   ],
   "source": [
    "price=float(input(\"Please insert price =\"))\n",
    "money=float(input(\"Please insert money\"))\n",
    "\n",
    "print('''\n",
    "        Change is:\n",
    "        {} $\n",
    "        {} nickles\n",
    "        {} quarter\n",
    "        {} pennis'''.format(a,b,c,d,e=change_money(price,money)))\n"
   ]
  },
  {
   "cell_type": "code",
   "execution_count": null,
   "id": "soviet-donor",
   "metadata": {},
   "outputs": [],
   "source": []
  }
 ],
 "metadata": {
  "kernelspec": {
   "display_name": "Python 3",
   "language": "python",
   "name": "python3"
  },
  "language_info": {
   "codemirror_mode": {
    "name": "ipython",
    "version": 3
   },
   "file_extension": ".py",
   "mimetype": "text/x-python",
   "name": "python",
   "nbconvert_exporter": "python",
   "pygments_lexer": "ipython3",
   "version": "3.9.1"
  }
 },
 "nbformat": 4,
 "nbformat_minor": 5
}
