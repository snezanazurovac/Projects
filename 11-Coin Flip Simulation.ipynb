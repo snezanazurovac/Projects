{
 "cells": [
  {
   "cell_type": "markdown",
   "id": "municipal-sending",
   "metadata": {},
   "source": [
    "Coin Flip Simulation - Write some code that simulates flipping a single coin \n",
    "however many times the user decides. \n",
    "The code should record the outcomes and count the number of tails and heads."
   ]
  },
  {
   "cell_type": "code",
   "execution_count": 7,
   "id": "welcome-pharmaceutical",
   "metadata": {},
   "outputs": [],
   "source": [
    "from random import *\n",
    "def coin_flip_simulation():\n",
    "    coin=['tail','head']\n",
    "    head=0\n",
    "    n=int(input(\"Please input number of flipping single coin \"))\n",
    "    for i in range(1,n+1):\n",
    "        if choice(coin)=='head':\n",
    "            head+=1\n",
    "    return(n,head,n-head)\n"
   ]
  },
  {
   "cell_type": "code",
   "execution_count": 9,
   "id": "junior-hopkins",
   "metadata": {},
   "outputs": [
    {
     "name": "stdout",
     "output_type": "stream",
     "text": [
      "Please input number of flipping single coin 10\n",
      "Total numbers of outcomes is 10,head: 2,tails:8\n"
     ]
    }
   ],
   "source": [
    "n,h,t=coin_flip_simulation()\n",
    "print(\"Total numbers of outcomes is {},head: {},tails:{}\".format(n,h,t))"
   ]
  },
  {
   "cell_type": "code",
   "execution_count": null,
   "id": "processed-insert",
   "metadata": {},
   "outputs": [],
   "source": []
  }
 ],
 "metadata": {
  "kernelspec": {
   "display_name": "Python 3",
   "language": "python",
   "name": "python3"
  },
  "language_info": {
   "codemirror_mode": {
    "name": "ipython",
    "version": 3
   },
   "file_extension": ".py",
   "mimetype": "text/x-python",
   "name": "python",
   "nbconvert_exporter": "python",
   "pygments_lexer": "ipython3",
   "version": "3.9.1"
  }
 },
 "nbformat": 4,
 "nbformat_minor": 5
}
